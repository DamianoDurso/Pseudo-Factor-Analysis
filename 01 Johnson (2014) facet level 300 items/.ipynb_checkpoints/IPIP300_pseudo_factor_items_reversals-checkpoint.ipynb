{
 "cells": [
  {
   "cell_type": "markdown",
   "id": "25393b87",
   "metadata": {},
   "source": [
    "# Generate embedding matrices for IPIP-NEO-300 \n",
    "### Using several transformers referred to in the manuscript\n"
   ]
  },
  {
   "cell_type": "code",
   "execution_count": 9,
   "id": "ae87254c",
   "metadata": {},
   "outputs": [],
   "source": [
    "# run from command line if needed\n",
    "# pip install tensorflow\n",
    "# pip install tensorflow-hub \n",
    "# pip install tensorflow-hub\n",
    "import pandas as pd\n",
    "import numpy as np"
   ]
  },
  {
   "cell_type": "code",
   "execution_count": 10,
   "id": "d458cd5d",
   "metadata": {},
   "outputs": [],
   "source": [
    "csv_file_path = 'IPIP300_preprocessed_items.csv'\n",
    "data = pd.read_csv(csv_file_path)\n",
    "\n",
    "# Initialize a list to store sentences and signs from each row\n",
    "row_sentences_and_signs = []\n",
    "\n",
    "for index, row in data.iterrows():\n",
    "    # Initialize a list to store sentences and signs for the current row\n",
    "    current_row_data = []\n",
    "    \n",
    "    # Iterate over each item/sign pair you're interested in\n",
    "    for i in range(1, 11):  # Assuming you have item1 to item10 and sign1 to sign10\n",
    "        item_col = f'item{i}'\n",
    "        sign_col = f'sign{i}'\n",
    "        if item_col in data.columns and sign_col in data.columns:\n",
    "            # Append the cell content and sign as a tuple for the current row\n",
    "            current_row_data.append((str(row[item_col]), 1 if row[sign_col] == '+' else -1))\n",
    "    \n",
    "    # Add the current row's data to the main list\n",
    "    row_sentences_and_signs.append(current_row_data)\n",
    "#row_sentences_and_signs"
   ]
  },
  {
   "cell_type": "code",
   "execution_count": 12,
   "id": "ce1c945b",
   "metadata": {},
   "outputs": [],
   "source": [
    "from sentence_transformers import SentenceTransformer, util\n",
    "import numpy as np\n",
    "\n",
    "model = SentenceTransformer('nli-distilroberta-base-v2')\n",
    "\n",
    "# Initialize a list to store the modified averaged row embeddings\n",
    "averaged_row_embeddings = []\n",
    "\n",
    "# Iterate over each row's sentences and signs\n",
    "for sentences_and_signs in row_sentences_and_signs:\n",
    "    # Initialize a list to store embeddings for the current row's sentences\n",
    "    modified_cell_embeddings = []\n",
    "    \n",
    "    # Encode each sentence, apply the corresponding sign, and append its embedding\n",
    "    for sentence, sign in sentences_and_signs:\n",
    "        cell_embedding = model.encode(sentence) * sign\n",
    "        modified_cell_embeddings.append(cell_embedding)\n",
    "    \n",
    "    # Convert the list of embeddings to a single NumPy array before averaging\n",
    "    modified_cell_embeddings_array = np.array(modified_cell_embeddings)\n",
    "    \n",
    "    # Calculate the average embedding for the current row\n",
    "    avg_embedding = np.mean(modified_cell_embeddings_array, axis=0)\n",
    "    averaged_row_embeddings.append(avg_embedding)\n",
    "\n",
    "# Convert the list of averaged embeddings to a single NumPy array for cosine similarity computation\n",
    "averaged_row_embeddings_array = np.stack(averaged_row_embeddings)\n",
    "\n",
    "# Compute cosine similarities\n",
    "cosine_similarities = util.pytorch_cos_sim(averaged_row_embeddings_array, averaged_row_embeddings_array)\n",
    "\n",
    "# Convert PyTorch tensor to a pandas DataFrame\n",
    "cosine_similarities_df = pd.DataFrame(cosine_similarities.numpy())\n",
    "\n",
    "# Write to csv\n",
    "cosine_similarities_df.to_csv('matrix_reversed_items_roberta.csv', index=False)"
   ]
  }
 ],
 "metadata": {
  "kernelspec": {
   "display_name": "Python 3 (ipykernel)",
   "language": "python",
   "name": "python3"
  },
  "language_info": {
   "codemirror_mode": {
    "name": "ipython",
    "version": 3
   },
   "file_extension": ".py",
   "mimetype": "text/x-python",
   "name": "python",
   "nbconvert_exporter": "python",
   "pygments_lexer": "ipython3",
   "version": "3.11.5"
  }
 },
 "nbformat": 4,
 "nbformat_minor": 5
}
